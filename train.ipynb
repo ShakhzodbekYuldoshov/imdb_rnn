{
 "cells": [
  {
   "cell_type": "code",
   "execution_count": 6,
   "id": "1674d960",
   "metadata": {},
   "outputs": [],
   "source": [
    "from tensorflow.keras.models import Sequential\n",
    "from tensorflow.keras.preprocessing import sequence\n",
    "from tensorflow.keras.layers import Dropout, Embedding, LSTM, Dense\n",
    "from tensorflow.keras.datasets import imdb"
   ]
  },
  {
   "cell_type": "markdown",
   "id": "369313bf",
   "metadata": {},
   "source": [
    "### load dataset"
   ]
  },
  {
   "cell_type": "code",
   "execution_count": 2,
   "id": "bf7dce62",
   "metadata": {},
   "outputs": [
    {
     "name": "stdout",
     "output_type": "stream",
     "text": [
      "Downloading data from https://storage.googleapis.com/tensorflow/tf-keras-datasets/imdb.npz\n",
      "17465344/17464789 [==============================] - 19s 1us/step\n",
      "17473536/17464789 [==============================] - 19s 1us/step\n"
     ]
    }
   ],
   "source": [
    "(x_train, y_train), (x_test, y_test) = imdb.load_data(num_words=20000)"
   ]
  },
  {
   "cell_type": "markdown",
   "id": "07b9bbbb",
   "metadata": {},
   "source": [
    "### limit the train data length for faster training"
   ]
  },
  {
   "cell_type": "code",
   "execution_count": 3,
   "id": "56b7b801",
   "metadata": {},
   "outputs": [],
   "source": [
    "x_train = sequence.pad_sequences(x_train, maxlen=80)\n",
    "x_test = sequence.pad_sequences(x_test, maxlen=80)"
   ]
  },
  {
   "cell_type": "code",
   "execution_count": 7,
   "id": "e84b61f4",
   "metadata": {},
   "outputs": [],
   "source": [
    "model = Sequential()\n",
    "model.add(Embedding(20000, 128))\n",
    "model.add(LSTM(128, dropout=0.2, recurrent_dropout=0.2))\n",
    "model.add(Dense(1, activation='softmax'))"
   ]
  },
  {
   "cell_type": "code",
   "execution_count": 11,
   "id": "bd85106e",
   "metadata": {},
   "outputs": [],
   "source": [
    "model.compile(loss='binary_crossentropy',\n",
    "              optimizer='adam',\n",
    "              metrics=['accuracy'])"
   ]
  },
  {
   "cell_type": "code",
   "execution_count": 12,
   "id": "04331107",
   "metadata": {},
   "outputs": [
    {
     "name": "stdout",
     "output_type": "stream",
     "text": [
      "Model: \"sequential_1\"\n",
      "_________________________________________________________________\n",
      " Layer (type)                Output Shape              Param #   \n",
      "=================================================================\n",
      " embedding_1 (Embedding)     (None, None, 128)         2560000   \n",
      "                                                                 \n",
      " lstm_1 (LSTM)               (None, 128)               131584    \n",
      "                                                                 \n",
      " dense (Dense)               (None, 1)                 129       \n",
      "                                                                 \n",
      "=================================================================\n",
      "Total params: 2,691,713\n",
      "Trainable params: 2,691,713\n",
      "Non-trainable params: 0\n",
      "_________________________________________________________________\n"
     ]
    }
   ],
   "source": [
    "model.summary()"
   ]
  },
  {
   "cell_type": "code",
   "execution_count": 13,
   "id": "4dffc420",
   "metadata": {},
   "outputs": [
    {
     "name": "stdout",
     "output_type": "stream",
     "text": [
      "Epoch 1/10\n",
      "391/391 - 52s - loss: 0.0260 - accuracy: 0.5000 - val_loss: 0.9507 - val_accuracy: 0.5000 - 52s/epoch - 132ms/step\n",
      "Epoch 2/10\n",
      "391/391 - 52s - loss: 0.0158 - accuracy: 0.5000 - val_loss: 1.0820 - val_accuracy: 0.5000 - 52s/epoch - 132ms/step\n",
      "Epoch 3/10\n",
      "391/391 - 51s - loss: 0.0149 - accuracy: 0.5000 - val_loss: 1.1911 - val_accuracy: 0.5000 - 51s/epoch - 132ms/step\n",
      "Epoch 4/10\n",
      "391/391 - 51s - loss: 0.0176 - accuracy: 0.5000 - val_loss: 1.0415 - val_accuracy: 0.5000 - 51s/epoch - 131ms/step\n",
      "Epoch 5/10\n",
      "391/391 - 53s - loss: 0.0135 - accuracy: 0.5000 - val_loss: 1.0553 - val_accuracy: 0.5000 - 53s/epoch - 135ms/step\n",
      "Epoch 6/10\n",
      "391/391 - 53s - loss: 0.0113 - accuracy: 0.5000 - val_loss: 1.2858 - val_accuracy: 0.5000 - 53s/epoch - 135ms/step\n",
      "Epoch 7/10\n",
      "391/391 - 53s - loss: 0.0128 - accuracy: 0.5000 - val_loss: 1.2461 - val_accuracy: 0.5000 - 53s/epoch - 135ms/step\n",
      "Epoch 8/10\n",
      "391/391 - 52s - loss: 0.0082 - accuracy: 0.5000 - val_loss: 1.1861 - val_accuracy: 0.5000 - 52s/epoch - 134ms/step\n",
      "Epoch 9/10\n",
      "391/391 - 53s - loss: 0.0103 - accuracy: 0.5000 - val_loss: 1.2709 - val_accuracy: 0.5000 - 53s/epoch - 135ms/step\n",
      "Epoch 10/10\n",
      "391/391 - 53s - loss: 0.0079 - accuracy: 0.5000 - val_loss: 1.2835 - val_accuracy: 0.5000 - 53s/epoch - 135ms/step\n"
     ]
    }
   ],
   "source": [
    "history = model.fit(x_train, y_train,\n",
    "                    batch_size=64,\n",
    "                    epochs=10,\n",
    "                    verbose=2,\n",
    "                    validation_data=(x_test, y_test))"
   ]
  },
  {
   "cell_type": "code",
   "execution_count": null,
   "id": "d69d41a6",
   "metadata": {},
   "outputs": [],
   "source": []
  }
 ],
 "metadata": {
  "kernelspec": {
   "display_name": "Python 3 (ipykernel)",
   "language": "python",
   "name": "python3"
  },
  "language_info": {
   "codemirror_mode": {
    "name": "ipython",
    "version": 3
   },
   "file_extension": ".py",
   "mimetype": "text/x-python",
   "name": "python",
   "nbconvert_exporter": "python",
   "pygments_lexer": "ipython3",
   "version": "3.7.11"
  }
 },
 "nbformat": 4,
 "nbformat_minor": 5
}
